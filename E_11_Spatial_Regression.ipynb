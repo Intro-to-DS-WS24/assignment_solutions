{
 "cells": [
  {
   "cell_type": "markdown",
   "metadata": {},
   "source": [
    "<div class='bar_title'></div>\n",
    "\n",
    "*Introduction to Data Science (IDS)*\n",
    "\n",
    "# Assignment 10 - Spatial Regression\n",
    "Gunther Gust / Vanessa Haustein <br>\n",
    "Chair for Enterprise AI<br>\n",
    "Data Driven Decisions (D3) Group<br>\n",
    "Center for Artificial Intelligence and Data Science (CAIDAS)"
   ]
  },
  {
   "cell_type": "markdown",
   "metadata": {},
   "source": [
    "<img src='https://raw.githubusercontent.com/vhaus63/ids_data/main/d3.png?raw=true' style='width:20%; float:left;' />"
   ]
  },
  {
   "cell_type": "markdown",
   "metadata": {},
   "source": [
    "<img src=\"https://raw.githubusercontent.com/vhaus63/ids_data/main/CAIDASlogo.png\" style=\"width:20%; float:left;\" />"
   ]
  },
  {
   "cell_type": "markdown",
   "metadata": {},
   "source": [
    "# Exercise 1:\n",
    "\n",
    "Referring to the lecture, remember how model 3 was built using a formula string. Explain in more detail why it is important that the intercept has to be omitted. Which two things could happen if we didn't ensure that?"
   ]
  },
  {
   "cell_type": "markdown",
   "metadata": {},
   "source": [
    "_Answer here_"
   ]
  },
  {
   "cell_type": "markdown",
   "metadata": {},
   "source": [
    "# Exercise 2:\n",
    "\n",
    "<img src=\"https://raw.githubusercontent.com/vhaus63/ids_data/main/san_diego_pier.jpg\" style=\"width:30%; float:center;\" />"
   ]
  },
  {
   "cell_type": "markdown",
   "metadata": {},
   "source": [
    "When you google San Diego Instagram Spots, one of the hottest search entries is the famous UCSD Scripps Pier. Maybe this landmark has an effect on the pricing of AirBnBs?\n",
    "\n",
    "In order to check this assumption first find the coordinates of the pier (in particular, search for the Scripps Shoreline Underwater Reserve) using Nominatim. Then add the euclidean distance between the Insta spot and each point in the dataset as a new column.\n",
    "\n",
    "Use [this link](https://geographicdata.science/book/data/airbnb/regression_cleaning.html) as a reference. It explains how the Balboa Park column was added and you can use the same procedure for the pier."
   ]
  },
  {
   "cell_type": "code",
   "execution_count": 44,
   "metadata": {},
   "outputs": [],
   "source": [
    "import geopandas as gpd\n",
    "from geopy.geocoders import Nominatim\n",
    "from scipy.spatial.distance import cdist\n",
    "from shapely.geometry import Point\n",
    "import contextily\n",
    "import spreg\n",
    "import pandas as pd"
   ]
  },
  {
   "cell_type": "code",
   "execution_count": 21,
   "metadata": {},
   "outputs": [],
   "source": [
    "db =  gpd.read_file(\"https://raw.githubusercontent.com/GuntherGust/sc_gdsa_data/main/regression_db.geojson\")"
   ]
  },
  {
   "cell_type": "code",
   "execution_count": null,
   "metadata": {},
   "outputs": [],
   "source": []
  },
  {
   "cell_type": "markdown",
   "metadata": {},
   "source": [
    "Plot your results."
   ]
  },
  {
   "cell_type": "code",
   "execution_count": null,
   "metadata": {},
   "outputs": [],
   "source": []
  },
  {
   "cell_type": "markdown",
   "metadata": {},
   "source": [
    "First, train a linear model without spatial features."
   ]
  },
  {
   "cell_type": "code",
   "execution_count": null,
   "metadata": {},
   "outputs": [],
   "source": []
  },
  {
   "cell_type": "markdown",
   "metadata": {},
   "source": [
    "Now, add the proximity to the instagrammable pier to the variables and fit a new model. Compare $R^2$ and adjusted $R^2$."
   ]
  },
  {
   "cell_type": "code",
   "execution_count": 39,
   "metadata": {},
   "outputs": [],
   "source": []
  },
  {
   "cell_type": "markdown",
   "metadata": {},
   "source": [
    "Can you explain the result with the rest of the lecture in mind?"
   ]
  },
  {
   "cell_type": "markdown",
   "metadata": {},
   "source": [
    "_Answer here_"
   ]
  }
 ],
 "metadata": {
  "kernelspec": {
   "display_name": "env",
   "language": "python",
   "name": "python3"
  },
  "language_info": {
   "codemirror_mode": {
    "name": "ipython",
    "version": 3
   },
   "file_extension": ".py",
   "mimetype": "text/x-python",
   "name": "python",
   "nbconvert_exporter": "python",
   "pygments_lexer": "ipython3",
   "version": "3.11.0"
  }
 },
 "nbformat": 4,
 "nbformat_minor": 2
}
