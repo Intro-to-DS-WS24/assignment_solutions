{
 "cells": [
  {
   "cell_type": "markdown",
   "metadata": {},
   "source": [
    "<div class='bar_title'></div>\n",
    "\n",
    "*Introduction to Data Science*\n",
    "\n",
    "# Assignment 1 - Programming Basics Solutions\n",
    "\n",
    "Gunther Gust / Vanessa Haustein<br>\n",
    "Chair of Enterprise AI\n",
    "\n",
    "Winter Semester 24/25\n",
    "\n",
    "<img src='https://github.com/GuntherGust/tds2_data/blob/main/images/d3.png?raw=true' style='width:20%; float:left;' />"
   ]
  },
  {
   "cell_type": "markdown",
   "metadata": {},
   "source": [
    "Answer the questions or complete the tasks outlined below, use the specific method described if applicable.\n",
    "\n",
    "### Exercise 1: Basics\n",
    "(a) What is 7 to the power of 4?\n"
   ]
  },
  {
   "cell_type": "code",
   "execution_count": 17,
   "metadata": {},
   "outputs": [
    {
     "data": {
      "text/plain": [
       "2401"
      ]
     },
     "execution_count": 17,
     "metadata": {},
     "output_type": "execute_result"
    }
   ],
   "source": [
    "7**4"
   ]
  },
  {
   "cell_type": "markdown",
   "metadata": {},
   "source": [
    "(b) Is it true that 2^13 is smaller than 13^500?"
   ]
  },
  {
   "cell_type": "code",
   "execution_count": 18,
   "metadata": {},
   "outputs": [
    {
     "data": {
      "text/plain": [
       "True"
      ]
     },
     "execution_count": 18,
     "metadata": {},
     "output_type": "execute_result"
    }
   ],
   "source": [
    "2**13 < 13**500"
   ]
  },
  {
   "cell_type": "markdown",
   "metadata": {},
   "source": [
    "(c) Split this string: `s = \"Hi,;there,;Sam!\"` into a list."
   ]
  },
  {
   "cell_type": "code",
   "execution_count": 19,
   "metadata": {},
   "outputs": [],
   "source": [
    "s = \"Hi,;there,;Sam!\""
   ]
  },
  {
   "cell_type": "code",
   "execution_count": 20,
   "metadata": {
    "collapsed": true
   },
   "outputs": [
    {
     "data": {
      "text/plain": [
       "['Hi', 'there', 'Sam!']"
      ]
     },
     "execution_count": 20,
     "metadata": {},
     "output_type": "execute_result"
    }
   ],
   "source": [
    "s.split(',;')"
   ]
  },
  {
   "cell_type": "markdown",
   "metadata": {},
   "source": [
    "(d) Given this nested list, use indexing to grab the word \"hello\""
   ]
  },
  {
   "cell_type": "code",
   "execution_count": 21,
   "metadata": {
    "collapsed": true
   },
   "outputs": [
    {
     "data": {
      "text/plain": [
       "'hello'"
      ]
     },
     "execution_count": 21,
     "metadata": {},
     "output_type": "execute_result"
    }
   ],
   "source": [
    "lst = [1,2,[3,4],[5,[100,200,['hello']],23,11],1,7]\n",
    "lst[3][1][2][0]"
   ]
  },
  {
   "cell_type": "markdown",
   "metadata": {},
   "source": [
    "(e) Given this nested dictionary grab the word \"hello\"."
   ]
  },
  {
   "cell_type": "code",
   "execution_count": 22,
   "metadata": {},
   "outputs": [
    {
     "data": {
      "text/plain": [
       "'hello'"
      ]
     },
     "execution_count": 22,
     "metadata": {},
     "output_type": "execute_result"
    }
   ],
   "source": [
    "d = {'k1':[1,2,3,{'tricky':['oh','man','inception',{'target':[1,2,3,'hello']}]}]}\n",
    "d['k1'][3]['tricky'][3]['target'][3]"
   ]
  },
  {
   "cell_type": "markdown",
   "metadata": {},
   "source": [
    "(f) Create a function that grabs the email website domain from a string in the form:\n",
    "\n",
    "    user@domain.com\n",
    "    \n",
    "So for example, passing \"user@domain.com\" would return: domain.com"
   ]
  },
  {
   "cell_type": "code",
   "execution_count": 23,
   "metadata": {
    "collapsed": true
   },
   "outputs": [],
   "source": [
    "def domain_grabber(mail):\n",
    "    return mail.split('@')[1]"
   ]
  },
  {
   "cell_type": "code",
   "execution_count": 24,
   "metadata": {},
   "outputs": [
    {
     "data": {
      "text/plain": [
       "'domain.com'"
      ]
     },
     "execution_count": 24,
     "metadata": {},
     "output_type": "execute_result"
    }
   ],
   "source": [
    "domain_grabber('user@domain.com')"
   ]
  },
  {
   "cell_type": "markdown",
   "metadata": {},
   "source": [
    "### Exercise 2: Speed Test\n",
    "You are driving a little too fast, and a police officer stops you. Write a function to return one of 3 possible results: \"No ticket\", \"Small ticket\", or \"Big Ticket\". If your speed is 60 or less, the result is \"No Ticket\". If speed is between 61 and 80 inclusive, the result is \"Small Ticket\". If speed is 81 or more, the result is \"Big    Ticket\". However, there are two special conditions:\n",
    "1. If it’s your birthday (encoded as a boolean parameter in the function), the officer gives you a 5 mph grace: your speed can be 5 mph higher in all cases without getting the respective ticket.\n",
    "2. If it’s a milestone birthday (a birthday that is a multiple of 10, such as 30, 40, or 50), you will avoid a \"Small Ticket\" entirely. Additionally, if your adjusted speed (after the birthday bonus) is 60 mph or less, the officer will sing \"Happy Birthday\" for you (print \"Happy Birthday\")."
   ]
  },
  {
   "cell_type": "code",
   "execution_count": 31,
   "metadata": {
    "collapsed": true
   },
   "outputs": [],
   "source": [
    "def speed_test(speed, is_birthday, age):\n",
    "\n",
    "    if is_birthday:\n",
    "        speed -= 5\n",
    "\n",
    "    milestone_birthday = (age % 10 == 0)\n",
    "\n",
    "    if milestone_birthday and speed <= 60:\n",
    "        print(\"Happy Birthday!\")\n",
    "        return \"No ticket\"\n",
    "    \n",
    "    if speed <= 60:\n",
    "        return \"No ticket\"\n",
    "    elif 61 <= speed <= 80:\n",
    "        if milestone_birthday:\n",
    "            return \"No ticket\"\n",
    "        return \"Small ticket\"\n",
    "    else:\n",
    "        return \"Big ticket\""
   ]
  },
  {
   "cell_type": "code",
   "execution_count": 32,
   "metadata": {},
   "outputs": [
    {
     "name": "stdout",
     "output_type": "stream",
     "text": [
      "Happy Birthday!\n",
      "No ticket\n",
      "Big ticket\n"
     ]
    }
   ],
   "source": [
    "print(speed_test(65, True, 40))\n",
    "print(speed_test(85, False, 29))"
   ]
  },
  {
   "cell_type": "markdown",
   "metadata": {},
   "source": [
    " ### Exercise 3: Calculate Circle\n",
    " (a) Create a function with the name `calculate_circle` that calculates the area of a circle that is defined by a radius. Therefore, first import the math library in order to use `pi`."
   ]
  },
  {
   "cell_type": "code",
   "execution_count": 25,
   "metadata": {},
   "outputs": [],
   "source": [
    "from math import pi\n",
    "\n",
    "def calculate_circle(rad):\n",
    "    value = pi*rad*rad\n",
    "    return value"
   ]
  },
  {
   "cell_type": "code",
   "execution_count": 26,
   "metadata": {},
   "outputs": [
    {
     "data": {
      "text/plain": [
       "3.141592653589793"
      ]
     },
     "execution_count": 26,
     "metadata": {},
     "output_type": "execute_result"
    }
   ],
   "source": [
    "calculate_circle(1)"
   ]
  },
  {
   "cell_type": "markdown",
   "metadata": {},
   "source": [
    "(b) Now we extend this function to calculate either the area or the perimeter of a circle, depending on the input. For this, we need an additional input argument for the function, for example `mode`. Then we can check within the function whether `mode == 'area'` or `mode == 'perimeter'` and perform the calculation accordingly."
   ]
  },
  {
   "cell_type": "code",
   "execution_count": 27,
   "metadata": {},
   "outputs": [],
   "source": [
    "def calculate_circle(rad, mode):\n",
    "    if mode == 'area':\n",
    "        value = pi*rad*rad\n",
    "    elif mode == 'perimeter':\n",
    "        value = 2*pi*rad\n",
    "    return value"
   ]
  },
  {
   "cell_type": "code",
   "execution_count": 28,
   "metadata": {},
   "outputs": [
    {
     "data": {
      "text/plain": [
       "6.283185307179586"
      ]
     },
     "execution_count": 28,
     "metadata": {},
     "output_type": "execute_result"
    }
   ],
   "source": [
    "calculate_circle(1, 'perimeter')"
   ]
  },
  {
   "cell_type": "markdown",
   "metadata": {},
   "source": [
    "### Exercise 4: Summing Up\n",
    "Write a function that calculates the sum of all positive numbers in the list `[3, -1, 4, 'apple', -5, 2, 'alien', -8, 6, 0, -5]`. You can iterate over the list and add up only the negative numbers. You also have to make sure to only consider the right data types when checking for negativity."
   ]
  },
  {
   "cell_type": "code",
   "execution_count": 29,
   "metadata": {},
   "outputs": [],
   "source": [
    "def sum_positive_numbers(lst):\n",
    "    total_sum = 0\n",
    "    for item in lst:\n",
    "        if isinstance(item, int) and item > 0:\n",
    "            total_sum += item\n",
    "    return total_sum"
   ]
  },
  {
   "cell_type": "code",
   "execution_count": 30,
   "metadata": {},
   "outputs": [
    {
     "data": {
      "text/plain": [
       "15"
      ]
     },
     "execution_count": 30,
     "metadata": {},
     "output_type": "execute_result"
    }
   ],
   "source": [
    "sum_positive_numbers([3, -1, 4, 'apple', -5, 2, 'alien', -8, 6, 0, -5])"
   ]
  }
 ],
 "metadata": {
  "kernelspec": {
   "display_name": "world",
   "language": "python",
   "name": "python3"
  },
  "language_info": {
   "codemirror_mode": {
    "name": "ipython",
    "version": 3
   },
   "file_extension": ".py",
   "mimetype": "text/x-python",
   "name": "python",
   "nbconvert_exporter": "python",
   "pygments_lexer": "ipython3",
   "version": "3.12.3"
  }
 },
 "nbformat": 4,
 "nbformat_minor": 1
}
