{
 "cells": [
  {
   "cell_type": "markdown",
   "metadata": {},
   "source": [
    "<div class='bar_title'></div>\n",
    "\n",
    "*Introduction to Data Science*\n",
    "\n",
    "# Assignment 6 - Machine Learning Solutions\n",
    "\n",
    "Gunther Gust / Vanessa Haustein<br>\n",
    "Chair of Enterprise AI\n",
    "\n",
    "Winter Semester 24/25\n",
    "\n",
    "<img src='https://raw.githubusercontent.com/vhaus63/ids_data/main/d3.png?raw=true' style='width:20%; float:left;' />"
   ]
  },
  {
   "cell_type": "markdown",
   "metadata": {},
   "source": [
    "<img src=\"https://raw.githubusercontent.com/vhaus63/ids_data/main/CAIDASlogo.png\" style=\"width:20%; float:left;\" />"
   ]
  },
  {
   "cell_type": "markdown",
   "metadata": {},
   "source": [
    "# Exercise 1\n",
    "In this exercise, we will use decision trees to classify people on board the titanic. We want to train a model to predict whether a person with given features survived the catastrophe."
   ]
  },
  {
   "cell_type": "code",
   "execution_count": 1,
   "metadata": {},
   "outputs": [],
   "source": [
    "import pandas as pd\n",
    "\n",
    "from sklearn.tree import DecisionTreeClassifier\n",
    "from sklearn.ensemble import RandomForestClassifier\n",
    "from sklearn.model_selection import train_test_split\n",
    "from sklearn.metrics import classification_report"
   ]
  },
  {
   "cell_type": "code",
   "execution_count": 2,
   "metadata": {},
   "outputs": [
    {
     "data": {
      "text/html": [
       "<div>\n",
       "<style scoped>\n",
       "    .dataframe tbody tr th:only-of-type {\n",
       "        vertical-align: middle;\n",
       "    }\n",
       "\n",
       "    .dataframe tbody tr th {\n",
       "        vertical-align: top;\n",
       "    }\n",
       "\n",
       "    .dataframe thead th {\n",
       "        text-align: right;\n",
       "    }\n",
       "</style>\n",
       "<table border=\"1\" class=\"dataframe\">\n",
       "  <thead>\n",
       "    <tr style=\"text-align: right;\">\n",
       "      <th></th>\n",
       "      <th>Survived</th>\n",
       "      <th>Pclass</th>\n",
       "      <th>Sex</th>\n",
       "      <th>Age</th>\n",
       "      <th>SibSp</th>\n",
       "      <th>Parch</th>\n",
       "      <th>Fare</th>\n",
       "      <th>Embarked</th>\n",
       "    </tr>\n",
       "  </thead>\n",
       "  <tbody>\n",
       "    <tr>\n",
       "      <th>0</th>\n",
       "      <td>1</td>\n",
       "      <td>1</td>\n",
       "      <td>0</td>\n",
       "      <td>38.0</td>\n",
       "      <td>1</td>\n",
       "      <td>0</td>\n",
       "      <td>71.2833</td>\n",
       "      <td>0</td>\n",
       "    </tr>\n",
       "    <tr>\n",
       "      <th>1</th>\n",
       "      <td>1</td>\n",
       "      <td>1</td>\n",
       "      <td>0</td>\n",
       "      <td>35.0</td>\n",
       "      <td>1</td>\n",
       "      <td>0</td>\n",
       "      <td>53.1000</td>\n",
       "      <td>2</td>\n",
       "    </tr>\n",
       "    <tr>\n",
       "      <th>2</th>\n",
       "      <td>0</td>\n",
       "      <td>1</td>\n",
       "      <td>1</td>\n",
       "      <td>54.0</td>\n",
       "      <td>0</td>\n",
       "      <td>0</td>\n",
       "      <td>51.8625</td>\n",
       "      <td>2</td>\n",
       "    </tr>\n",
       "    <tr>\n",
       "      <th>3</th>\n",
       "      <td>1</td>\n",
       "      <td>3</td>\n",
       "      <td>0</td>\n",
       "      <td>4.0</td>\n",
       "      <td>1</td>\n",
       "      <td>1</td>\n",
       "      <td>16.7000</td>\n",
       "      <td>2</td>\n",
       "    </tr>\n",
       "    <tr>\n",
       "      <th>4</th>\n",
       "      <td>1</td>\n",
       "      <td>1</td>\n",
       "      <td>0</td>\n",
       "      <td>58.0</td>\n",
       "      <td>0</td>\n",
       "      <td>0</td>\n",
       "      <td>26.5500</td>\n",
       "      <td>2</td>\n",
       "    </tr>\n",
       "  </tbody>\n",
       "</table>\n",
       "</div>"
      ],
      "text/plain": [
       "   Survived  Pclass  Sex   Age  SibSp  Parch     Fare  Embarked\n",
       "0         1       1    0  38.0      1      0  71.2833         0\n",
       "1         1       1    0  35.0      1      0  53.1000         2\n",
       "2         0       1    1  54.0      0      0  51.8625         2\n",
       "3         1       3    0   4.0      1      1  16.7000         2\n",
       "4         1       1    0  58.0      0      0  26.5500         2"
      ]
     },
     "execution_count": 2,
     "metadata": {},
     "output_type": "execute_result"
    }
   ],
   "source": [
    "df = pd.read_csv('https://raw.githubusercontent.com/vhaus63/ids_data/refs/heads/main/DecisionTrees_titanic.csv')\n",
    "df.head()"
   ]
  },
  {
   "cell_type": "markdown",
   "metadata": {},
   "source": [
    "Split the model into feature (X) and target dataset (y). Use as many features as possible with the given dataset. Then, create a train-test split where the testing data makes up 30% of the entire dataset."
   ]
  },
  {
   "cell_type": "code",
   "execution_count": 3,
   "metadata": {},
   "outputs": [],
   "source": [
    "y = df.loc[:,\"Survived\"]\n",
    "X = df.drop(\"Survived\", axis=1)\n",
    "X_train, X_test, y_train, y_test = train_test_split(X, y, test_size=0.3)"
   ]
  },
  {
   "cell_type": "markdown",
   "metadata": {},
   "source": [
    "Now, create a simple decision tree model, fit it on the training data and then create predictions for the test set."
   ]
  },
  {
   "cell_type": "code",
   "execution_count": 4,
   "metadata": {},
   "outputs": [],
   "source": [
    "decisiontree = DecisionTreeClassifier()\n",
    "decisiontree.fit(X_train, y_train)\n",
    "decisiontree_pred = decisiontree.predict(X_test)"
   ]
  },
  {
   "cell_type": "markdown",
   "metadata": {},
   "source": [
    "Use the `classification_report` method to check the performance of the model:"
   ]
  },
  {
   "cell_type": "code",
   "execution_count": 5,
   "metadata": {},
   "outputs": [
    {
     "name": "stdout",
     "output_type": "stream",
     "text": [
      "              precision    recall  f1-score   support\n",
      "\n",
      "           0       0.73      0.61      0.67        18\n",
      "           1       0.82      0.89      0.86        37\n",
      "\n",
      "    accuracy                           0.80        55\n",
      "   macro avg       0.78      0.75      0.76        55\n",
      "weighted avg       0.79      0.80      0.79        55\n",
      "\n"
     ]
    }
   ],
   "source": [
    "print(classification_report(y_test, decisiontree_pred))"
   ]
  },
  {
   "cell_type": "markdown",
   "metadata": {},
   "source": [
    "We want to compare the performance of our model to a Random Forest. You can read more about random forests [here](https://medium.com/@mrmaster907/introduction-random-forest-classification-by-example-6983d95c7b91). Just like with the decision tree, create a Random Forest model, fit it  and predict on the test data. Print the classification report for this model and compare it to the one from the decision tree."
   ]
  },
  {
   "cell_type": "code",
   "execution_count": 6,
   "metadata": {},
   "outputs": [],
   "source": [
    "randomforest = RandomForestClassifier()\n",
    "randomforest.fit(X_train, y_train)\n",
    "randomforest_pred = randomforest.predict(X_test)"
   ]
  },
  {
   "cell_type": "code",
   "execution_count": 7,
   "metadata": {},
   "outputs": [
    {
     "name": "stdout",
     "output_type": "stream",
     "text": [
      "              precision    recall  f1-score   support\n",
      "\n",
      "           0       0.80      0.44      0.57        18\n",
      "           1       0.78      0.95      0.85        37\n",
      "\n",
      "    accuracy                           0.78        55\n",
      "   macro avg       0.79      0.70      0.71        55\n",
      "weighted avg       0.79      0.78      0.76        55\n",
      "\n"
     ]
    }
   ],
   "source": [
    "print(classification_report(y_test, randomforest_pred))"
   ]
  },
  {
   "cell_type": "markdown",
   "metadata": {},
   "source": [
    "The identical reports from both models are not surprising given the relatively small dataset of just 183 instances, which is small compared to the complexity of decision trees. Since the decision tree already captures the data's complexity well, the Random Forest does not provide any additional performance improvement."
   ]
  },
  {
   "cell_type": "markdown",
   "metadata": {
    "editable": true,
    "slideshow": {
     "slide_type": "fragment"
    },
    "tags": []
   },
   "source": [
    "# Exercise 2\n",
    "\n",
    "In this programming assignment you need to apply your new machine learning knowledge. You will need to create a modeling pipeline for training and evaluating a machine learning model built on several numeric as well as categorical features."
   ]
  },
  {
   "cell_type": "markdown",
   "metadata": {
    "editable": true,
    "slideshow": {
     "slide_type": "slide"
    },
    "tags": []
   },
   "source": [
    "## Introduction and Dataset\n",
    "\n",
    "You are provided with a dataset containing a list of video games with sales greater than 100.000 copies. Your task is to build a model predicting the yearly global sales (column ``Global_Sales``) of a video game leveraging the available features.\n",
    "\n",
    "To help you get started, the following blocks of code import the dataset using pandas: "
   ]
  },
  {
   "cell_type": "code",
   "execution_count": 8,
   "metadata": {
    "editable": true,
    "slideshow": {
     "slide_type": "slide"
    },
    "tags": []
   },
   "outputs": [
    {
     "data": {
      "text/html": [
       "\n",
       "            <div id=\"guuMvD\"></div>\n",
       "            <script type=\"text/javascript\" data-lets-plot-script=\"library\">\n",
       "                if(!window.letsPlotCallQueue) {\n",
       "                    window.letsPlotCallQueue = [];\n",
       "                }; \n",
       "                window.letsPlotCall = function(f) {\n",
       "                    window.letsPlotCallQueue.push(f);\n",
       "                };\n",
       "                (function() {\n",
       "                    var script = document.createElement(\"script\");\n",
       "                    script.type = \"text/javascript\";\n",
       "                    script.src = \"https://cdn.jsdelivr.net/gh/JetBrains/lets-plot@v4.5.1/js-package/distr/lets-plot.min.js\";\n",
       "                    script.onload = function() {\n",
       "                        window.letsPlotCall = function(f) {f();};\n",
       "                        window.letsPlotCallQueue.forEach(function(f) {f();});\n",
       "                        window.letsPlotCallQueue = [];\n",
       "                        \n",
       "                    };\n",
       "                    script.onerror = function(event) {\n",
       "                        window.letsPlotCall = function(f) {};    // noop\n",
       "                        window.letsPlotCallQueue = [];\n",
       "                        var div = document.createElement(\"div\");\n",
       "                        div.style.color = 'darkred';\n",
       "                        div.textContent = 'Error loading Lets-Plot JS';\n",
       "                        document.getElementById(\"guuMvD\").appendChild(div);\n",
       "                    };\n",
       "                    var e = document.getElementById(\"guuMvD\");\n",
       "                    e.appendChild(script);\n",
       "                })()\n",
       "            </script>\n",
       "            "
      ]
     },
     "metadata": {},
     "output_type": "display_data"
    }
   ],
   "source": [
    "from sklearn.impute import SimpleImputer\n",
    "from sklearn.preprocessing import OrdinalEncoder, OneHotEncoder\n",
    "from sklearn.ensemble import RandomForestRegressor\n",
    "from sklearn.tree import DecisionTreeRegressor\n",
    "from sklearn.metrics import mean_absolute_error, r2_score\n",
    "from sklearn.compose import ColumnTransformer\n",
    "from sklearn.pipeline import Pipeline\n",
    "import numpy as np\n",
    "from lets_plot import *\n",
    "LetsPlot.setup_html()"
   ]
  },
  {
   "cell_type": "code",
   "execution_count": 9,
   "metadata": {
    "editable": true,
    "slideshow": {
     "slide_type": "fragment"
    },
    "tags": []
   },
   "outputs": [
    {
     "data": {
      "text/html": [
       "<div>\n",
       "<style scoped>\n",
       "    .dataframe tbody tr th:only-of-type {\n",
       "        vertical-align: middle;\n",
       "    }\n",
       "\n",
       "    .dataframe tbody tr th {\n",
       "        vertical-align: top;\n",
       "    }\n",
       "\n",
       "    .dataframe thead th {\n",
       "        text-align: right;\n",
       "    }\n",
       "</style>\n",
       "<table border=\"1\" class=\"dataframe\">\n",
       "  <thead>\n",
       "    <tr style=\"text-align: right;\">\n",
       "      <th></th>\n",
       "      <th>Unnamed: 0</th>\n",
       "      <th>Name</th>\n",
       "      <th>Platform</th>\n",
       "      <th>Year_of_Release</th>\n",
       "      <th>Genre</th>\n",
       "      <th>Global_Sales</th>\n",
       "      <th>Critic_Score</th>\n",
       "      <th>Critic_Count</th>\n",
       "      <th>User_Score</th>\n",
       "      <th>User_Count</th>\n",
       "      <th>Rating</th>\n",
       "    </tr>\n",
       "  </thead>\n",
       "  <tbody>\n",
       "    <tr>\n",
       "      <th>0</th>\n",
       "      <td>0</td>\n",
       "      <td>Wii Sports</td>\n",
       "      <td>Wii</td>\n",
       "      <td>2006.0</td>\n",
       "      <td>Sports</td>\n",
       "      <td>82.53</td>\n",
       "      <td>76.0</td>\n",
       "      <td>51.0</td>\n",
       "      <td>8.0</td>\n",
       "      <td>322.0</td>\n",
       "      <td>E</td>\n",
       "    </tr>\n",
       "    <tr>\n",
       "      <th>1</th>\n",
       "      <td>1</td>\n",
       "      <td>Super Mario Bros.</td>\n",
       "      <td>NES</td>\n",
       "      <td>1985.0</td>\n",
       "      <td>Platform</td>\n",
       "      <td>40.24</td>\n",
       "      <td>NaN</td>\n",
       "      <td>NaN</td>\n",
       "      <td>NaN</td>\n",
       "      <td>NaN</td>\n",
       "      <td>NaN</td>\n",
       "    </tr>\n",
       "    <tr>\n",
       "      <th>2</th>\n",
       "      <td>2</td>\n",
       "      <td>Mario Kart Wii</td>\n",
       "      <td>Wii</td>\n",
       "      <td>2008.0</td>\n",
       "      <td>Racing</td>\n",
       "      <td>35.52</td>\n",
       "      <td>82.0</td>\n",
       "      <td>73.0</td>\n",
       "      <td>8.3</td>\n",
       "      <td>709.0</td>\n",
       "      <td>E</td>\n",
       "    </tr>\n",
       "    <tr>\n",
       "      <th>3</th>\n",
       "      <td>3</td>\n",
       "      <td>Wii Sports Resort</td>\n",
       "      <td>Wii</td>\n",
       "      <td>2009.0</td>\n",
       "      <td>Sports</td>\n",
       "      <td>32.77</td>\n",
       "      <td>80.0</td>\n",
       "      <td>73.0</td>\n",
       "      <td>8.0</td>\n",
       "      <td>192.0</td>\n",
       "      <td>E</td>\n",
       "    </tr>\n",
       "    <tr>\n",
       "      <th>4</th>\n",
       "      <td>4</td>\n",
       "      <td>Pokemon Red/Pokemon Blue</td>\n",
       "      <td>GB</td>\n",
       "      <td>1996.0</td>\n",
       "      <td>Role-Playing</td>\n",
       "      <td>31.37</td>\n",
       "      <td>NaN</td>\n",
       "      <td>NaN</td>\n",
       "      <td>NaN</td>\n",
       "      <td>NaN</td>\n",
       "      <td>NaN</td>\n",
       "    </tr>\n",
       "  </tbody>\n",
       "</table>\n",
       "</div>"
      ],
      "text/plain": [
       "   Unnamed: 0                      Name Platform  Year_of_Release  \\\n",
       "0           0                Wii Sports      Wii           2006.0   \n",
       "1           1         Super Mario Bros.      NES           1985.0   \n",
       "2           2            Mario Kart Wii      Wii           2008.0   \n",
       "3           3         Wii Sports Resort      Wii           2009.0   \n",
       "4           4  Pokemon Red/Pokemon Blue       GB           1996.0   \n",
       "\n",
       "          Genre  Global_Sales  Critic_Score  Critic_Count  User_Score  \\\n",
       "0        Sports         82.53          76.0          51.0         8.0   \n",
       "1      Platform         40.24           NaN           NaN         NaN   \n",
       "2        Racing         35.52          82.0          73.0         8.3   \n",
       "3        Sports         32.77          80.0          73.0         8.0   \n",
       "4  Role-Playing         31.37           NaN           NaN         NaN   \n",
       "\n",
       "   User_Count Rating  \n",
       "0       322.0      E  \n",
       "1         NaN    NaN  \n",
       "2       709.0      E  \n",
       "3       192.0      E  \n",
       "4         NaN    NaN  "
      ]
     },
     "execution_count": 9,
     "metadata": {},
     "output_type": "execute_result"
    }
   ],
   "source": [
    "data_path = 'https://raw.githubusercontent.com/vhaus63/ids_data/refs/heads/main/video_game_sales.csv'\n",
    "game_sales_data = pd.read_csv(data_path)\n",
    "game_sales_data = game_sales_data[game_sales_data.Name.isna() == False]\n",
    "game_sales_data.head()"
   ]
  },
  {
   "cell_type": "markdown",
   "metadata": {
    "editable": true,
    "slideshow": {
     "slide_type": "slide"
    },
    "tags": []
   },
   "source": [
    "## Splitting the Dataset\n",
    "\n",
    "Before you can get started training a machine learning model you will have to split the dataframe into features and the target variable (try to use as many features as possible):"
   ]
  },
  {
   "cell_type": "code",
   "execution_count": 10,
   "metadata": {
    "editable": true,
    "slideshow": {
     "slide_type": "fragment"
    },
    "tags": []
   },
   "outputs": [
    {
     "data": {
      "text/plain": [
       "Index(['Unnamed: 0', 'Platform', 'Year_of_Release', 'Genre', 'Global_Sales',\n",
       "       'Critic_Score', 'Critic_Count', 'User_Score', 'User_Count', 'Rating'],\n",
       "      dtype='object')"
      ]
     },
     "execution_count": 10,
     "metadata": {},
     "output_type": "execute_result"
    }
   ],
   "source": [
    "game_sales_data.set_index('Name', inplace=True)\n",
    "game_sales_data.columns"
   ]
  },
  {
   "cell_type": "code",
   "execution_count": 11,
   "metadata": {
    "editable": true,
    "slideshow": {
     "slide_type": "fragment"
    },
    "tags": []
   },
   "outputs": [
    {
     "name": "stdout",
     "output_type": "stream",
     "text": [
      "Name\n",
      "Wii Sports                  82.53\n",
      "Super Mario Bros.           40.24\n",
      "Mario Kart Wii              35.52\n",
      "Wii Sports Resort           32.77\n",
      "Pokemon Red/Pokemon Blue    31.37\n",
      "Name: Global_Sales, dtype: float64\n",
      "                          Unnamed: 0 Platform  Year_of_Release         Genre  \\\n",
      "Name                                                                           \n",
      "Wii Sports                         0      Wii           2006.0        Sports   \n",
      "Super Mario Bros.                  1      NES           1985.0      Platform   \n",
      "Mario Kart Wii                     2      Wii           2008.0        Racing   \n",
      "Wii Sports Resort                  3      Wii           2009.0        Sports   \n",
      "Pokemon Red/Pokemon Blue           4       GB           1996.0  Role-Playing   \n",
      "\n",
      "                          Critic_Score  Critic_Count  User_Score  User_Count  \\\n",
      "Name                                                                           \n",
      "Wii Sports                        76.0          51.0         8.0       322.0   \n",
      "Super Mario Bros.                  NaN           NaN         NaN         NaN   \n",
      "Mario Kart Wii                    82.0          73.0         8.3       709.0   \n",
      "Wii Sports Resort                 80.0          73.0         8.0       192.0   \n",
      "Pokemon Red/Pokemon Blue           NaN           NaN         NaN         NaN   \n",
      "\n",
      "                         Rating  \n",
      "Name                             \n",
      "Wii Sports                    E  \n",
      "Super Mario Bros.           NaN  \n",
      "Mario Kart Wii                E  \n",
      "Wii Sports Resort             E  \n",
      "Pokemon Red/Pokemon Blue    NaN  \n"
     ]
    }
   ],
   "source": [
    "y = game_sales_data['Global_Sales']\n",
    "X = game_sales_data.drop('Global_Sales', axis=1)\n",
    "print(y.head())\n",
    "print(X.head())"
   ]
  },
  {
   "cell_type": "markdown",
   "metadata": {
    "editable": true,
    "slideshow": {
     "slide_type": "slide"
    },
    "tags": []
   },
   "source": [
    "Next, you will have to create a train-test split in order to be able to evaluate your models. Use 80\\% of the data for training and 20\\% for evaluation. Additionally, make sure that your results are reproducible:"
   ]
  },
  {
   "cell_type": "code",
   "execution_count": 12,
   "metadata": {
    "editable": true,
    "slideshow": {
     "slide_type": "fragment"
    },
    "tags": []
   },
   "outputs": [],
   "source": [
    "train_X, val_X, train_y, val_y = train_test_split(X, y, \n",
    "                                                  train_size=0.8, \n",
    "                                                  random_state = 0)"
   ]
  },
  {
   "cell_type": "markdown",
   "metadata": {
    "editable": true,
    "slideshow": {
     "slide_type": "slide"
    },
    "tags": []
   },
   "source": [
    "## Removing missing values\n",
    "If you inspect your training data you will find that some of the variables have missing values. Use the ``SimpleImputer`` to replace missing values in numerical columns with the column mean and missing values in categorical columns with the most frequent value (take a look at the SimpleImputer [documentation](https://scikit-learn.org/stable/modules/generated/sklearn.impute.SimpleImputer.html) to identify the relevant parameters)."
   ]
  },
  {
   "cell_type": "markdown",
   "metadata": {},
   "source": [
    "First, you need to separate the column names that have numerical and categorical values. First, look at the dtypes of the training data:"
   ]
  },
  {
   "cell_type": "code",
   "execution_count": 13,
   "metadata": {
    "editable": true,
    "slideshow": {
     "slide_type": "fragment"
    },
    "tags": []
   },
   "outputs": [
    {
     "data": {
      "text/plain": [
       "Unnamed: 0           int64\n",
       "Platform            object\n",
       "Year_of_Release    float64\n",
       "Genre               object\n",
       "Critic_Score       float64\n",
       "Critic_Count       float64\n",
       "User_Score         float64\n",
       "User_Count         float64\n",
       "Rating              object\n",
       "dtype: object"
      ]
     },
     "execution_count": 13,
     "metadata": {},
     "output_type": "execute_result"
    }
   ],
   "source": [
    "train_X.dtypes"
   ]
  },
  {
   "cell_type": "code",
   "execution_count": 14,
   "metadata": {
    "editable": true,
    "slideshow": {
     "slide_type": "fragment"
    },
    "tags": []
   },
   "outputs": [],
   "source": [
    "num_cols = [col for col in train_X.columns if train_X[col].dtype == 'float64']\n",
    "cat_cols = [col for col in train_X.columns if train_X[col].dtype == 'object']"
   ]
  },
  {
   "cell_type": "markdown",
   "metadata": {},
   "source": [
    "Now you can use the `SimpleImputer` to fill the missing data."
   ]
  },
  {
   "cell_type": "code",
   "execution_count": 15,
   "metadata": {
    "editable": true,
    "slideshow": {
     "slide_type": "slide"
    },
    "tags": []
   },
   "outputs": [],
   "source": [
    "num_imputer = SimpleImputer(strategy='mean')\n",
    "\n",
    "train_X_num_imputed = pd.DataFrame(num_imputer.fit_transform(train_X[num_cols]), \n",
    "                                   columns=num_cols, index=train_X.index)\n",
    "val_X_num_imputed = pd.DataFrame(num_imputer.transform(val_X[num_cols]), \n",
    "                                   columns=num_cols, index=val_X.index)\n",
    "\n",
    "cat_imputer = SimpleImputer(strategy='most_frequent')\n",
    "\n",
    "train_X_cat_imputed = pd.DataFrame(cat_imputer.fit_transform(train_X[cat_cols]), \n",
    "                                   columns=cat_cols, index=train_X.index)\n",
    "val_X_cat_imputed = pd.DataFrame(cat_imputer.transform(val_X[cat_cols]), \n",
    "                                   columns=cat_cols, index=val_X.index)"
   ]
  },
  {
   "cell_type": "markdown",
   "metadata": {
    "editable": true,
    "slideshow": {
     "slide_type": "slide"
    },
    "tags": []
   },
   "source": [
    "## Encoding categorical variables\n",
    "\n",
    "Prior to training your model you will have to encode the categorical variables. We inspect all categorical variables and use the ``OrdinalEncoder`` or the ``OneHotEncoder`` where appropriate."
   ]
  },
  {
   "cell_type": "code",
   "execution_count": 16,
   "metadata": {
    "editable": true,
    "slideshow": {
     "slide_type": "fragment"
    },
    "tags": []
   },
   "outputs": [
    {
     "name": "stdout",
     "output_type": "stream",
     "text": [
      "Platform: 31\n",
      "Genre: 12\n",
      "Rating: 8\n"
     ]
    }
   ],
   "source": [
    "for cat in cat_cols:\n",
    "    print(\"{}: {}\".format(cat, game_sales_data[cat].nunique()))"
   ]
  },
  {
   "cell_type": "markdown",
   "metadata": {},
   "source": [
    "Use the `OrdinalEncoder` for the Rating:"
   ]
  },
  {
   "cell_type": "code",
   "execution_count": 17,
   "metadata": {
    "editable": true,
    "slideshow": {
     "slide_type": "fragment"
    },
    "tags": []
   },
   "outputs": [],
   "source": [
    "#see e.g. https://en.wikipedia.org/wiki/Entertainment_Software_Rating_Board for correct order\n",
    "#see e.g. https://stackoverflow.com/questions/72170947/how-to-use-ordinalencoder-to-set-custom-order for more explanation\n",
    "ordinal_encoder = OrdinalEncoder(categories=[['EC','E','K-A','E10+','T', 'M', 'AO', 'RP']])\n",
    "\n",
    "train_X_cat_label = pd.DataFrame(ordinal_encoder.fit_transform(train_X_cat_imputed[[\"Rating\"]]),\n",
    "                                 columns=[\"Rating\"], \n",
    "                                  index=train_X_cat_imputed.index)\n",
    "val_X_cat_label = pd.DataFrame(ordinal_encoder.transform(val_X_cat_imputed[[\"Rating\"]]),\n",
    "                                 columns=[\"Rating\"], \n",
    "                                 index=val_X_cat_imputed.index)"
   ]
  },
  {
   "cell_type": "markdown",
   "metadata": {},
   "source": [
    "Now, use the `OneHotEncoder` to encode the rest of the categorical values:"
   ]
  },
  {
   "cell_type": "code",
   "execution_count": 18,
   "metadata": {
    "editable": true,
    "slideshow": {
     "slide_type": "slide"
    },
    "tags": []
   },
   "outputs": [],
   "source": [
    "ohe_encoder = OneHotEncoder(sparse_output=False,)\n",
    "train_X_cat_ohe = pd.DataFrame(ohe_encoder.fit_transform(train_X_cat_imputed[[\"Platform\", 'Genre']]),\n",
    "                                 index=train_X_cat_imputed.index, columns=ohe_encoder.get_feature_names_out())\n",
    "val_X_cat_ohe = pd.DataFrame(ohe_encoder.transform(val_X_cat_imputed[[\"Platform\", 'Genre']]),\n",
    "                                 index=val_X_cat_imputed.index, columns=ohe_encoder.get_feature_names_out())"
   ]
  },
  {
   "cell_type": "markdown",
   "metadata": {},
   "source": [
    "We still have to combine the numeric imputed and all the categrorical encoded columns in order to get a full training and validation set:"
   ]
  },
  {
   "cell_type": "code",
   "execution_count": 19,
   "metadata": {
    "editable": true,
    "slideshow": {
     "slide_type": "fragment"
    },
    "tags": []
   },
   "outputs": [],
   "source": [
    "train_X = pd.concat([train_X_num_imputed, train_X_cat_label, train_X_cat_ohe], axis=1)\n",
    "val_X = pd.concat([val_X_num_imputed, val_X_cat_label, val_X_cat_ohe], axis=1)"
   ]
  },
  {
   "cell_type": "markdown",
   "metadata": {
    "editable": true,
    "slideshow": {
     "slide_type": "slide"
    },
    "tags": []
   },
   "source": [
    "## Training the Model\n",
    "\n",
    "Now our dataset should be ready and we can train a predictive model. Train a Decision Tree as well as a Random Forest and compare the in-sample as well as the out-of-sample performance of both models usinge the mean absolute error. For this, you can create a function called `score_dataset` that takes all four necessary datasets (X_train, X_valid, y_train and y_valid), fits the two models and then predicts based on X_valid. Then, depending on whether you want the in-sample or the out-of-sample score, you can give the function the appropriate dataset to predict on. It should return the MAE of both models. Print all four results."
   ]
  },
  {
   "cell_type": "code",
   "execution_count": 20,
   "metadata": {
    "editable": true,
    "slideshow": {
     "slide_type": "slide"
    },
    "tags": []
   },
   "outputs": [],
   "source": [
    "def score_dataset(X_train, X_valid, y_train, y_valid):\n",
    "    model_rf = RandomForestRegressor(n_estimators=100, random_state=1)\n",
    "    model_rf.fit(X_train, y_train)\n",
    "    preds_rf = model_rf.predict(X_valid)\n",
    "    model_dt = DecisionTreeRegressor(random_state=1)\n",
    "    model_dt.fit(X_train, y_train)\n",
    "    preds_dt = model_dt.predict(X_valid)\n",
    "    return mean_absolute_error(y_valid, preds_rf), mean_absolute_error(y_valid, preds_dt), model_rf, model_dt"
   ]
  },
  {
   "cell_type": "code",
   "execution_count": 21,
   "metadata": {
    "editable": true,
    "slideshow": {
     "slide_type": "fragment"
    },
    "tags": []
   },
   "outputs": [],
   "source": [
    "oos_rf, oos_dt, model_rf, model_dt= score_dataset(train_X, val_X, train_y, val_y)\n",
    "is_rf, is_dt, model_rf, model_dt = score_dataset(train_X, train_X, train_y, train_y)"
   ]
  },
  {
   "cell_type": "code",
   "execution_count": 22,
   "metadata": {
    "editable": true,
    "slideshow": {
     "slide_type": "fragment"
    },
    "tags": []
   },
   "outputs": [
    {
     "name": "stdout",
     "output_type": "stream",
     "text": [
      "Out-of-sample\n",
      "Random Forest: 0.4334695197218959\n",
      "Decicion Tree\" 0.5181498358720199\n",
      "------------------------------\n",
      "In-sample\n",
      "Random Forest: 0.22931049440241147\n",
      "Decicion Tree\" 0.12641105283767942\n"
     ]
    }
   ],
   "source": [
    "print('Out-of-sample\\nRandom Forest: {}\\nDecicion Tree\" {}'.format(oos_rf, oos_dt))\n",
    "print('------------------------------')\n",
    "print('In-sample\\nRandom Forest: {}\\nDecicion Tree\" {}'.format(is_rf, is_dt))"
   ]
  },
  {
   "cell_type": "markdown",
   "metadata": {
    "editable": true,
    "slideshow": {
     "slide_type": "slide"
    },
    "tags": []
   },
   "source": [
    "### Looks like Overfitting\n",
    "Since the in-sample score is pretty good but the out-of-sample score not, we can deduce that we overfitted our model on the training data. Since we would rather have a model that in generar performs good on broad data than performing very good on the already known data, we need to look at the tree depth:"
   ]
  },
  {
   "cell_type": "code",
   "execution_count": 23,
   "metadata": {
    "editable": true,
    "slideshow": {
     "slide_type": "fragment"
    },
    "tags": []
   },
   "outputs": [
    {
     "data": {
      "text/plain": [
       "42"
      ]
     },
     "execution_count": 23,
     "metadata": {},
     "output_type": "execute_result"
    }
   ],
   "source": [
    "#tree depth\n",
    "model_dt.get_depth()"
   ]
  },
  {
   "cell_type": "markdown",
   "metadata": {},
   "source": [
    "Change the `score_dataset` function from above so that you can control the depth of the tree with a parameter."
   ]
  },
  {
   "cell_type": "code",
   "execution_count": 24,
   "metadata": {},
   "outputs": [],
   "source": [
    "def score_dataset(X_train, X_valid, y_train, y_valid,depth= None):\n",
    "    model_rf = RandomForestRegressor(n_estimators=100, random_state=1,max_depth=depth)\n",
    "    model_rf.fit(X_train, y_train)\n",
    "    preds_rf = model_rf.predict(X_valid)\n",
    "    model_dt = DecisionTreeRegressor(random_state=1,max_depth=depth)\n",
    "    model_dt.fit(X_train, y_train)\n",
    "    preds_dt = model_dt.predict(X_valid)\n",
    "    return mean_absolute_error(y_valid, preds_rf), mean_absolute_error(y_valid, preds_dt), model_rf, model_dt"
   ]
  },
  {
   "cell_type": "markdown",
   "metadata": {},
   "source": [
    "Now you can use this function in order to get both in-sample and out-of-sample scores for both models depending on different tree depths from 1 to 42. Store the results for both models and both in-sample and out-of-sample each in a separate list:"
   ]
  },
  {
   "cell_type": "code",
   "execution_count": 25,
   "metadata": {
    "editable": true,
    "slideshow": {
     "slide_type": "fragment"
    },
    "tags": []
   },
   "outputs": [],
   "source": [
    "dt_scores_oos = []\n",
    "dt_scores_is = []\n",
    "rf_scores_oos = []\n",
    "rf_scores_is = []\n",
    "for i in range(1,42):\n",
    "    oos_rf, oos_dt, model_rf, model_dt= score_dataset(train_X, val_X, train_y, val_y,depth=i)\n",
    "    is_rf, is_dt, model_rf, model_dt = score_dataset(train_X, train_X, train_y, train_y,depth=i)\n",
    "    dt_scores_is.append(is_dt)\n",
    "    dt_scores_oos.append(oos_dt)\n",
    "    rf_scores_is.append(is_rf)\n",
    "    rf_scores_oos.append(oos_rf)"
   ]
  },
  {
   "cell_type": "markdown",
   "metadata": {},
   "source": [
    "Plot the results using `lets-plot`."
   ]
  },
  {
   "cell_type": "code",
   "execution_count": 26,
   "metadata": {},
   "outputs": [
    {
     "data": {
      "text/html": [
       "   <div id=\"0n9RiS\"></div>\n",
       "   <script type=\"text/javascript\" data-lets-plot-script=\"plot\">\n",
       "   \n",
       "   (function() {\n",
       "   // ----------\n",
       "   \n",
       "   var containerDiv = document.getElementById(\"0n9RiS\");\n",
       "   var observer = new ResizeObserver(function(entries) {\n",
       "       for (let entry of entries) {\n",
       "           var width = containerDiv.clientWidth\n",
       "           if (entry.contentBoxSize && width > 0) {\n",
       "           \n",
       "               // Render plot\n",
       "               if (observer) {\n",
       "                   observer.disconnect();\n",
       "                   observer = null;\n",
       "               }\n",
       "\n",
       "               var plotSpec={\n",
       "\"data\":{\n",
       "\"x\":[1.0,2.0,3.0,4.0,5.0,6.0,7.0,8.0,9.0,10.0,11.0,12.0,13.0,14.0,15.0,16.0,17.0,18.0,19.0,20.0,21.0,22.0,23.0,24.0,25.0,26.0,27.0,28.0,29.0,30.0,31.0,32.0,33.0,34.0,35.0,36.0,37.0,38.0,39.0,40.0,41.0,1.0,2.0,3.0,4.0,5.0,6.0,7.0,8.0,9.0,10.0,11.0,12.0,13.0,14.0,15.0,16.0,17.0,18.0,19.0,20.0,21.0,22.0,23.0,24.0,25.0,26.0,27.0,28.0,29.0,30.0,31.0,32.0,33.0,34.0,35.0,36.0,37.0,38.0,39.0,40.0,41.0,1.0,2.0,3.0,4.0,5.0,6.0,7.0,8.0,9.0,10.0,11.0,12.0,13.0,14.0,15.0,16.0,17.0,18.0,19.0,20.0,21.0,22.0,23.0,24.0,25.0,26.0,27.0,28.0,29.0,30.0,31.0,32.0,33.0,34.0,35.0,36.0,37.0,38.0,39.0,40.0,41.0,1.0,2.0,3.0,4.0,5.0,6.0,7.0,8.0,9.0,10.0,11.0,12.0,13.0,14.0,15.0,16.0,17.0,18.0,19.0,20.0,21.0,22.0,23.0,24.0,25.0,26.0,27.0,28.0,29.0,30.0,31.0,32.0,33.0,34.0,35.0,36.0,37.0,38.0,39.0,40.0,41.0],\n",
       "\"y\":[0.5502861475627225,0.5362198298228502,0.5226952730844703,0.49151232033779557,0.5000161671510398,0.5138299761619555,0.490398284287897,0.4808248694907917,0.48183933057889233,0.48015531209599804,0.5072228421243323,0.5042378049023452,0.4987454463385037,0.5083343152815711,0.4948538059378139,0.5015249545308331,0.4741263113919635,0.5143512628825039,0.4870101178550727,0.5050417417730317,0.5018759533865264,0.5230837655912892,0.4998855939254671,0.5391428382097193,0.49659624521163975,0.4997644955770045,0.509459156819776,0.5309945733968737,0.5225979965364652,0.5319115568497016,0.5272845817864319,0.5073885279706056,0.5208290634808591,0.510627090887208,0.5191505823391748,0.5218412769978027,0.5273275489683095,0.5292645270461224,0.5082358521647239,0.5430015464245833,0.5094863609069291,0.5530989916648625,0.5284901710468691,0.489334064230766,0.477533530590283,0.4522200686957651,0.4296895422021944,0.4107550146855405,0.38628029208735554,0.3640042836711536,0.3381196860663547,0.3179511826744351,0.2972897831328749,0.2788321716482869,0.2614782842727484,0.24520492390661972,0.23095807866121365,0.21683429000429477,0.20435576219700816,0.1933126358726252,0.18184822645331383,0.17237777748042968,0.16466949766207434,0.15753452603882256,0.15101667227190774,0.1456093262479813,0.1418491370458945,0.13883953361971815,0.13578721495376314,0.13345463239926947,0.13169540199757504,0.1303928192773952,0.12924850353141393,0.12823973113807755,0.12767826966059884,0.12728508177815126,0.12704063550455627,0.12682548200563462,0.12662514402435035,0.12645914568894426,0.12643541631988683,0.12641908256262394,0.537034450807092,0.507585683488452,0.4896298786556177,0.4760003856768688,0.46605116807587155,0.45853879633618366,0.4534487797737343,0.4497107769232271,0.4440567868893775,0.44150895074300234,0.43591462959269356,0.4311251400202796,0.4293593507077948,0.4261421568158162,0.4245309875738019,0.423900519429152,0.4231535878247137,0.4235867635956393,0.4239320835092002,0.42422795480250924,0.4255220716110068,0.42489710033466566,0.4251872813237862,0.4234151557722559,0.42647980868032237,0.4270139533409436,0.4265801733024392,0.42807639747972764,0.4307865872223662,0.4298196913614179,0.4289433273308976,0.4304025539233658,0.43189275504898544,0.43062785543016335,0.4316698161614154,0.43099172497295035,0.4318655810599577,0.43181321717322974,0.43067933428172117,0.43177768106736586,0.431995298315203,0.5397552400592222,0.5042526752892031,0.4792531230784753,0.461920037787812,0.44391647295106723,0.4251784940223612,0.4055016337642181,0.3882424171969375,0.37155828335942914,0.35564943924730624,0.340477100219623,0.32766120135925914,0.3158685190483413,0.3042326084485913,0.29402804319085746,0.2842911970324611,0.27630674714411896,0.26877306816121393,0.2617964364991607,0.255582174986385,0.2512028536130333,0.24633646810081097,0.2429023440542612,0.2399448903985056,0.23755285427348488,0.23526390550968554,0.23396366354628717,0.23236077988776477,0.2318127112637901,0.23109643556604084,0.2309154274303183,0.23060402886503795,0.22982672416969926,0.23035357230842243,0.22964152115122122,0.22958179801207204,0.2295581524400376,0.2289519966909548,0.22956799877043196,0.2296940765738014,0.22899358177281445],\n",
       "\"series\":[\"DT Out of Sample\",\"DT Out of Sample\",\"DT Out of Sample\",\"DT Out of Sample\",\"DT Out of Sample\",\"DT Out of Sample\",\"DT Out of Sample\",\"DT Out of Sample\",\"DT Out of Sample\",\"DT Out of Sample\",\"DT Out of Sample\",\"DT Out of Sample\",\"DT Out of Sample\",\"DT Out of Sample\",\"DT Out of Sample\",\"DT Out of Sample\",\"DT Out of Sample\",\"DT Out of Sample\",\"DT Out of Sample\",\"DT Out of Sample\",\"DT Out of Sample\",\"DT Out of Sample\",\"DT Out of Sample\",\"DT Out of Sample\",\"DT Out of Sample\",\"DT Out of Sample\",\"DT Out of Sample\",\"DT Out of Sample\",\"DT Out of Sample\",\"DT Out of Sample\",\"DT Out of Sample\",\"DT Out of Sample\",\"DT Out of Sample\",\"DT Out of Sample\",\"DT Out of Sample\",\"DT Out of Sample\",\"DT Out of Sample\",\"DT Out of Sample\",\"DT Out of Sample\",\"DT Out of Sample\",\"DT Out of Sample\",\"DT In Sample\",\"DT In Sample\",\"DT In Sample\",\"DT In Sample\",\"DT In Sample\",\"DT In Sample\",\"DT In Sample\",\"DT In Sample\",\"DT In Sample\",\"DT In Sample\",\"DT In Sample\",\"DT In Sample\",\"DT In Sample\",\"DT In Sample\",\"DT In Sample\",\"DT In Sample\",\"DT In Sample\",\"DT In Sample\",\"DT In Sample\",\"DT In Sample\",\"DT In Sample\",\"DT In Sample\",\"DT In Sample\",\"DT In Sample\",\"DT In Sample\",\"DT In Sample\",\"DT In Sample\",\"DT In Sample\",\"DT In Sample\",\"DT In Sample\",\"DT In Sample\",\"DT In Sample\",\"DT In Sample\",\"DT In Sample\",\"DT In Sample\",\"DT In Sample\",\"DT In Sample\",\"DT In Sample\",\"DT In Sample\",\"DT In Sample\",\"DT In Sample\",\"RF Out of Sample\",\"RF Out of Sample\",\"RF Out of Sample\",\"RF Out of Sample\",\"RF Out of Sample\",\"RF Out of Sample\",\"RF Out of Sample\",\"RF Out of Sample\",\"RF Out of Sample\",\"RF Out of Sample\",\"RF Out of Sample\",\"RF Out of Sample\",\"RF Out of Sample\",\"RF Out of Sample\",\"RF Out of Sample\",\"RF Out of Sample\",\"RF Out of Sample\",\"RF Out of Sample\",\"RF Out of Sample\",\"RF Out of Sample\",\"RF Out of Sample\",\"RF Out of Sample\",\"RF Out of Sample\",\"RF Out of Sample\",\"RF Out of Sample\",\"RF Out of Sample\",\"RF Out of Sample\",\"RF Out of Sample\",\"RF Out of Sample\",\"RF Out of Sample\",\"RF Out of Sample\",\"RF Out of Sample\",\"RF Out of Sample\",\"RF Out of Sample\",\"RF Out of Sample\",\"RF Out of Sample\",\"RF Out of Sample\",\"RF Out of Sample\",\"RF Out of Sample\",\"RF Out of Sample\",\"RF Out of Sample\",\"RF In Sample\",\"RF In Sample\",\"RF In Sample\",\"RF In Sample\",\"RF In Sample\",\"RF In Sample\",\"RF In Sample\",\"RF In Sample\",\"RF In Sample\",\"RF In Sample\",\"RF In Sample\",\"RF In Sample\",\"RF In Sample\",\"RF In Sample\",\"RF In Sample\",\"RF In Sample\",\"RF In Sample\",\"RF In Sample\",\"RF In Sample\",\"RF In Sample\",\"RF In Sample\",\"RF In Sample\",\"RF In Sample\",\"RF In Sample\",\"RF In Sample\",\"RF In Sample\",\"RF In Sample\",\"RF In Sample\",\"RF In Sample\",\"RF In Sample\",\"RF In Sample\",\"RF In Sample\",\"RF In Sample\",\"RF In Sample\",\"RF In Sample\",\"RF In Sample\",\"RF In Sample\",\"RF In Sample\",\"RF In Sample\",\"RF In Sample\",\"RF In Sample\"]\n",
       "},\n",
       "\"mapping\":{\n",
       "\"x\":\"x\",\n",
       "\"y\":\"y\",\n",
       "\"color\":\"series\"\n",
       "},\n",
       "\"data_meta\":{\n",
       "\"series_annotations\":[{\n",
       "\"type\":\"int\",\n",
       "\"column\":\"x\"\n",
       "},{\n",
       "\"type\":\"float\",\n",
       "\"column\":\"y\"\n",
       "},{\n",
       "\"type\":\"str\",\n",
       "\"column\":\"series\"\n",
       "}]\n",
       "},\n",
       "\"ggtitle\":{\n",
       "\"text\":\"Scores Comparison\"\n",
       "},\n",
       "\"guides\":{\n",
       "\"color\":{\n",
       "\"title\":\"Series\"\n",
       "}\n",
       "},\n",
       "\"kind\":\"plot\",\n",
       "\"scales\":[],\n",
       "\"layers\":[{\n",
       "\"geom\":\"point\",\n",
       "\"mapping\":{\n",
       "},\n",
       "\"data_meta\":{\n",
       "},\n",
       "\"data\":{\n",
       "}\n",
       "}],\n",
       "\"metainfo_list\":[],\n",
       "\"spec_id\":\"1\"\n",
       "};\n",
       "               window.letsPlotCall(function() {\n",
       "       \n",
       "               var toolbar = null;\n",
       "               var plotContainer = containerDiv;               \n",
       "               \n",
       "                   var options = {\n",
       "                       sizing: {\n",
       "                           width_mode: \"min\",\n",
       "                           height_mode: \"scaled\",\n",
       "                           width: width\n",
       "                       }\n",
       "                   };\n",
       "                   var fig = LetsPlot.buildPlotFromProcessedSpecs(plotSpec, -1, -1, plotContainer, options);\n",
       "                   if (toolbar) {\n",
       "                     toolbar.bind(fig);\n",
       "                   }\n",
       "               });\n",
       "               \n",
       "               break;\n",
       "           }\n",
       "       }\n",
       "   });\n",
       "   \n",
       "   observer.observe(containerDiv);\n",
       "   \n",
       "   // ----------\n",
       "   })();\n",
       "   \n",
       "   </script>"
      ],
      "text/plain": [
       "<lets_plot.plot.core.PlotSpec at 0x1b78f1b33d0>"
      ]
     },
     "execution_count": 26,
     "metadata": {},
     "output_type": "execute_result"
    }
   ],
   "source": [
    "x_values = list(range(1, 42))\n",
    "data = pd.DataFrame({\n",
    "    'x': x_values * 4,\n",
    "    'y': dt_scores_oos + dt_scores_is + rf_scores_oos + rf_scores_is,\n",
    "    'series': ['DT Out of Sample'] * 41 + ['DT In Sample'] * 41 + ['RF Out of Sample'] * 41 + ['RF In Sample'] * 41\n",
    "})\n",
    "\n",
    "(\n",
    "    ggplot(data, aes(x='x', y='y', color='series'))\n",
    "    + geom_point()\n",
    "    + labs(color='Series', title='Scores Comparison')  # Legend title for clarity\n",
    ")"
   ]
  },
  {
   "cell_type": "markdown",
   "metadata": {},
   "source": [
    "Decide, which tree depth is the best and apply it to get the exact scores again."
   ]
  },
  {
   "cell_type": "code",
   "execution_count": 27,
   "metadata": {
    "editable": true,
    "slideshow": {
     "slide_type": "slide"
    },
    "tags": []
   },
   "outputs": [],
   "source": [
    "oos_rf, oos_dt, model_rf, model_dt= score_dataset(train_X, val_X, train_y, val_y,depth=10)\n",
    "is_rf, is_dt, model_rf, model_dt = score_dataset(train_X, train_X, train_y, train_y,depth=10)"
   ]
  },
  {
   "cell_type": "code",
   "execution_count": 28,
   "metadata": {
    "editable": true,
    "slideshow": {
     "slide_type": "fragment"
    },
    "tags": []
   },
   "outputs": [
    {
     "name": "stdout",
     "output_type": "stream",
     "text": [
      "Out-of-sample\n",
      "Random Forest: 0.44150895074300234\n",
      "Decicion Tree\" 0.48015531209599804\n",
      "------------------------------\n",
      "In-sample\n",
      "Random Forest: 0.35564943924730624\n",
      "Decicion Tree\" 0.3381196860663547\n"
     ]
    }
   ],
   "source": [
    "print('Out-of-sample\\nRandom Forest: {}\\nDecicion Tree\" {}'.format(oos_rf, oos_dt))\n",
    "print('------------------------------')\n",
    "print('In-sample\\nRandom Forest: {}\\nDecicion Tree\" {}'.format(is_rf, is_dt))"
   ]
  },
  {
   "cell_type": "markdown",
   "metadata": {
    "editable": true,
    "slideshow": {
     "slide_type": "slide"
    },
    "tags": []
   },
   "source": [
    "### Use a Pipeline"
   ]
  },
  {
   "cell_type": "markdown",
   "metadata": {},
   "source": [
    "We will use the sklearn Pipeline to wrap up the different steps of building a model."
   ]
  },
  {
   "cell_type": "code",
   "execution_count": 29,
   "metadata": {
    "editable": true,
    "slideshow": {
     "slide_type": "fragment"
    },
    "tags": []
   },
   "outputs": [],
   "source": [
    "train_X, val_X, train_y, val_y = train_test_split(X, y, \n",
    "                                                  train_size=0.8, \n",
    "                                                  random_state = 0)"
   ]
  },
  {
   "cell_type": "markdown",
   "metadata": {},
   "source": [
    "Define the same preprocessing steps that we had before but now for the pipeline:"
   ]
  },
  {
   "cell_type": "code",
   "execution_count": 30,
   "metadata": {
    "editable": true,
    "slideshow": {
     "slide_type": "slide"
    },
    "tags": []
   },
   "outputs": [],
   "source": [
    "# Preprocessing numerical columns\n",
    "numerical_transformer = SimpleImputer(strategy='mean')\n",
    "\n",
    "## Preprocessing categorical columns\n",
    "\n",
    "# Ordinal Encoder\n",
    "categorical_transformer_ordinal = Pipeline(steps=[\n",
    "    ('imputer', SimpleImputer(strategy='most_frequent')),\n",
    "    ('ordinal', OrdinalEncoder(categories=[['EC','E','K-A','E10+','T', 'M', 'AO', 'RP']])) \n",
    "])\n",
    "\n",
    "# One hot encoder\n",
    "categorical_transformer_ohe = Pipeline(steps=[\n",
    "    ('imputer', SimpleImputer(strategy='most_frequent')),\n",
    "    ('onehot', OneHotEncoder(handle_unknown='ignore')) \n",
    "])\n",
    "\n",
    "# Bundle the preprocessors\n",
    "preprocessor = ColumnTransformer(transformers=[\n",
    "    ('num', numerical_transformer, num_cols),\n",
    "    ('cat_ordinal', categorical_transformer_ordinal, ['Rating']),\n",
    "    ('cat_ohe', categorical_transformer_ohe, [\"Platform\", \"Genre\"])\n",
    "])"
   ]
  },
  {
   "cell_type": "markdown",
   "metadata": {},
   "source": [
    "Now, create the model and put together the complete pipeline. Evaluate the model again with the MAE."
   ]
  },
  {
   "cell_type": "code",
   "execution_count": 31,
   "metadata": {
    "slideshow": {
     "slide_type": "slide"
    }
   },
   "outputs": [
    {
     "name": "stdout",
     "output_type": "stream",
     "text": [
      "MAE using the complete pipeline: 0.4404769639699466\n"
     ]
    }
   ],
   "source": [
    "# Create model\n",
    "model = RandomForestRegressor(n_estimators=100, random_state=1,max_depth=10)\n",
    "\n",
    "\n",
    "# Bundle preprocessing and modeling code in a pipeline\n",
    "complete_pipeline = Pipeline(steps=[\n",
    "    ('preprocessor', preprocessor),\n",
    "    ('model', model)\n",
    "])\n",
    "\n",
    "# Preprocess the raw training data and fit the model\n",
    "complete_pipeline.fit(train_X, train_y)\n",
    "\n",
    "# Preprocess the raw validation data and make predictions\n",
    "preds = complete_pipeline.predict(val_X)\n",
    "\n",
    "# Evaluate the model\n",
    "score = mean_absolute_error(val_y, preds)\n",
    "print(\"MAE using the complete pipeline: {}\".format(score))"
   ]
  },
  {
   "cell_type": "markdown",
   "metadata": {
    "editable": true,
    "slideshow": {
     "slide_type": "slide"
    },
    "tags": []
   },
   "source": [
    "## Improve the Model: Are blockbuster Title relevant?\n",
    "\n",
    "Having successfully trained a model, your next task is to improve its performance. Evaluate whether an additional column that indicates whether a game is a blockbuster is able to improve your model.  "
   ]
  },
  {
   "cell_type": "code",
   "execution_count": 32,
   "metadata": {
    "editable": true,
    "slideshow": {
     "slide_type": "fragment"
    },
    "tags": []
   },
   "outputs": [
    {
     "data": {
      "text/plain": [
       "Index(['Wii Sports', 'Super Mario Bros.', 'Mario Kart Wii',\n",
       "       'Wii Sports Resort', 'Pokemon Red/Pokemon Blue', 'Tetris',\n",
       "       'New Super Mario Bros.', 'Wii Play', 'New Super Mario Bros. Wii',\n",
       "       'Duck Hunt', 'Nintendogs', 'Mario Kart DS',\n",
       "       'Pokemon Gold/Pokemon Silver', 'Wii Fit', 'Kinect Adventures!',\n",
       "       'Wii Fit Plus', 'Grand Theft Auto V', 'Grand Theft Auto: San Andreas',\n",
       "       'Super Mario World', 'Brain Age: Train Your Brain in Minutes a Day',\n",
       "       'Pokemon Diamond/Pokemon Pearl', 'Super Mario Land',\n",
       "       'Super Mario Bros. 3', 'Grand Theft Auto V',\n",
       "       'Grand Theft Auto: Vice City', 'Pokemon Ruby/Pokemon Sapphire',\n",
       "       'Brain Age 2: More Training in Minutes a Day',\n",
       "       'Pokemon Black/Pokemon White', 'Gran Turismo 3: A-Spec',\n",
       "       'Call of Duty: Modern Warfare 3',\n",
       "       'Pokémon Yellow: Special Pikachu Edition', 'Call of Duty: Black Ops 3',\n",
       "       'Call of Duty: Black Ops', 'Pokemon X/Pokemon Y',\n",
       "       'Call of Duty: Black Ops II', 'Call of Duty: Black Ops II',\n",
       "       'Call of Duty: Modern Warfare 2', 'Call of Duty: Modern Warfare 3',\n",
       "       'Grand Theft Auto III', 'Super Smash Bros. Brawl', 'Mario Kart 7',\n",
       "       'Call of Duty: Black Ops', 'Grand Theft Auto V',\n",
       "       'Animal Crossing: Wild World', 'Halo 3', 'Super Mario 64',\n",
       "       'Pokemon HeartGold/Pokemon SoulSilver',\n",
       "       'Pokemon Omega Ruby/Pokemon Alpha Sapphire', 'Gran Turismo 4',\n",
       "       'Super Mario Galaxy', 'Super Mario Land 2: 6 Golden Coins',\n",
       "       'Grand Theft Auto IV', 'Gran Turismo', 'Super Mario 3D Land',\n",
       "       'Gran Turismo 5', 'Call of Duty: Modern Warfare 2',\n",
       "       'Super Mario All-Stars', 'Grand Theft Auto IV',\n",
       "       'Pokemon FireRed/Pokemon LeafGreen', 'Super Mario 64',\n",
       "       'Call of Duty: Ghosts', 'Just Dance 3'],\n",
       "      dtype='object', name='Name')"
      ]
     },
     "execution_count": 32,
     "metadata": {},
     "output_type": "execute_result"
    }
   ],
   "source": [
    "game_sales_data[game_sales_data[\"Global_Sales\"]>10].index"
   ]
  },
  {
   "cell_type": "code",
   "execution_count": 33,
   "metadata": {
    "editable": true,
    "slideshow": {
     "slide_type": "fragment"
    },
    "tags": []
   },
   "outputs": [],
   "source": [
    "block_buster = [\"Mario\",\"Pokemon\",\"Grand Theft Auto\",\"Call of Duty\"]"
   ]
  },
  {
   "cell_type": "markdown",
   "metadata": {},
   "source": [
    "Create a new column in the game_sales_data DataFrame called `blockbuster`. This column should contain `True` if the title contains any of the blockbuster game titles and `False` if the title does not contain any of the blockbuster game titles."
   ]
  },
  {
   "cell_type": "code",
   "execution_count": 34,
   "metadata": {
    "editable": true,
    "slideshow": {
     "slide_type": "fragment"
    },
    "tags": []
   },
   "outputs": [],
   "source": [
    "game_sales_data[\"blockbuster\"] = [\n",
    "        any(block_buster_title in title for block_buster_title in block_buster)\n",
    "        for title in game_sales_data.index\n",
    "    ]"
   ]
  },
  {
   "cell_type": "code",
   "execution_count": 35,
   "metadata": {
    "editable": true,
    "slideshow": {
     "slide_type": "fragment"
    },
    "tags": []
   },
   "outputs": [
    {
     "data": {
      "text/html": [
       "<div>\n",
       "<style scoped>\n",
       "    .dataframe tbody tr th:only-of-type {\n",
       "        vertical-align: middle;\n",
       "    }\n",
       "\n",
       "    .dataframe tbody tr th {\n",
       "        vertical-align: top;\n",
       "    }\n",
       "\n",
       "    .dataframe thead th {\n",
       "        text-align: right;\n",
       "    }\n",
       "</style>\n",
       "<table border=\"1\" class=\"dataframe\">\n",
       "  <thead>\n",
       "    <tr style=\"text-align: right;\">\n",
       "      <th></th>\n",
       "      <th>Unnamed: 0</th>\n",
       "      <th>Platform</th>\n",
       "      <th>Year_of_Release</th>\n",
       "      <th>Genre</th>\n",
       "      <th>Global_Sales</th>\n",
       "      <th>Critic_Score</th>\n",
       "      <th>Critic_Count</th>\n",
       "      <th>User_Score</th>\n",
       "      <th>User_Count</th>\n",
       "      <th>Rating</th>\n",
       "      <th>blockbuster</th>\n",
       "    </tr>\n",
       "    <tr>\n",
       "      <th>Name</th>\n",
       "      <th></th>\n",
       "      <th></th>\n",
       "      <th></th>\n",
       "      <th></th>\n",
       "      <th></th>\n",
       "      <th></th>\n",
       "      <th></th>\n",
       "      <th></th>\n",
       "      <th></th>\n",
       "      <th></th>\n",
       "      <th></th>\n",
       "    </tr>\n",
       "  </thead>\n",
       "  <tbody>\n",
       "    <tr>\n",
       "      <th>Wii Sports</th>\n",
       "      <td>0</td>\n",
       "      <td>Wii</td>\n",
       "      <td>2006.0</td>\n",
       "      <td>Sports</td>\n",
       "      <td>82.53</td>\n",
       "      <td>76.0</td>\n",
       "      <td>51.0</td>\n",
       "      <td>8.0</td>\n",
       "      <td>322.0</td>\n",
       "      <td>E</td>\n",
       "      <td>False</td>\n",
       "    </tr>\n",
       "    <tr>\n",
       "      <th>Super Mario Bros.</th>\n",
       "      <td>1</td>\n",
       "      <td>NES</td>\n",
       "      <td>1985.0</td>\n",
       "      <td>Platform</td>\n",
       "      <td>40.24</td>\n",
       "      <td>NaN</td>\n",
       "      <td>NaN</td>\n",
       "      <td>NaN</td>\n",
       "      <td>NaN</td>\n",
       "      <td>NaN</td>\n",
       "      <td>True</td>\n",
       "    </tr>\n",
       "    <tr>\n",
       "      <th>Mario Kart Wii</th>\n",
       "      <td>2</td>\n",
       "      <td>Wii</td>\n",
       "      <td>2008.0</td>\n",
       "      <td>Racing</td>\n",
       "      <td>35.52</td>\n",
       "      <td>82.0</td>\n",
       "      <td>73.0</td>\n",
       "      <td>8.3</td>\n",
       "      <td>709.0</td>\n",
       "      <td>E</td>\n",
       "      <td>True</td>\n",
       "    </tr>\n",
       "    <tr>\n",
       "      <th>Wii Sports Resort</th>\n",
       "      <td>3</td>\n",
       "      <td>Wii</td>\n",
       "      <td>2009.0</td>\n",
       "      <td>Sports</td>\n",
       "      <td>32.77</td>\n",
       "      <td>80.0</td>\n",
       "      <td>73.0</td>\n",
       "      <td>8.0</td>\n",
       "      <td>192.0</td>\n",
       "      <td>E</td>\n",
       "      <td>False</td>\n",
       "    </tr>\n",
       "    <tr>\n",
       "      <th>Pokemon Red/Pokemon Blue</th>\n",
       "      <td>4</td>\n",
       "      <td>GB</td>\n",
       "      <td>1996.0</td>\n",
       "      <td>Role-Playing</td>\n",
       "      <td>31.37</td>\n",
       "      <td>NaN</td>\n",
       "      <td>NaN</td>\n",
       "      <td>NaN</td>\n",
       "      <td>NaN</td>\n",
       "      <td>NaN</td>\n",
       "      <td>True</td>\n",
       "    </tr>\n",
       "    <tr>\n",
       "      <th>...</th>\n",
       "      <td>...</td>\n",
       "      <td>...</td>\n",
       "      <td>...</td>\n",
       "      <td>...</td>\n",
       "      <td>...</td>\n",
       "      <td>...</td>\n",
       "      <td>...</td>\n",
       "      <td>...</td>\n",
       "      <td>...</td>\n",
       "      <td>...</td>\n",
       "      <td>...</td>\n",
       "    </tr>\n",
       "    <tr>\n",
       "      <th>Samurai Warriors: Sanada Maru</th>\n",
       "      <td>16706</td>\n",
       "      <td>PS3</td>\n",
       "      <td>2016.0</td>\n",
       "      <td>Action</td>\n",
       "      <td>0.01</td>\n",
       "      <td>NaN</td>\n",
       "      <td>NaN</td>\n",
       "      <td>NaN</td>\n",
       "      <td>NaN</td>\n",
       "      <td>NaN</td>\n",
       "      <td>False</td>\n",
       "    </tr>\n",
       "    <tr>\n",
       "      <th>LMA Manager 2007</th>\n",
       "      <td>16707</td>\n",
       "      <td>X360</td>\n",
       "      <td>2006.0</td>\n",
       "      <td>Sports</td>\n",
       "      <td>0.01</td>\n",
       "      <td>NaN</td>\n",
       "      <td>NaN</td>\n",
       "      <td>NaN</td>\n",
       "      <td>NaN</td>\n",
       "      <td>NaN</td>\n",
       "      <td>False</td>\n",
       "    </tr>\n",
       "    <tr>\n",
       "      <th>Haitaka no Psychedelica</th>\n",
       "      <td>16708</td>\n",
       "      <td>PSV</td>\n",
       "      <td>2016.0</td>\n",
       "      <td>Adventure</td>\n",
       "      <td>0.01</td>\n",
       "      <td>NaN</td>\n",
       "      <td>NaN</td>\n",
       "      <td>NaN</td>\n",
       "      <td>NaN</td>\n",
       "      <td>NaN</td>\n",
       "      <td>False</td>\n",
       "    </tr>\n",
       "    <tr>\n",
       "      <th>Spirits &amp; Spells</th>\n",
       "      <td>16709</td>\n",
       "      <td>GBA</td>\n",
       "      <td>2003.0</td>\n",
       "      <td>Platform</td>\n",
       "      <td>0.01</td>\n",
       "      <td>NaN</td>\n",
       "      <td>NaN</td>\n",
       "      <td>NaN</td>\n",
       "      <td>NaN</td>\n",
       "      <td>NaN</td>\n",
       "      <td>False</td>\n",
       "    </tr>\n",
       "    <tr>\n",
       "      <th>Winning Post 8 2016</th>\n",
       "      <td>16710</td>\n",
       "      <td>PSV</td>\n",
       "      <td>2016.0</td>\n",
       "      <td>Simulation</td>\n",
       "      <td>0.01</td>\n",
       "      <td>NaN</td>\n",
       "      <td>NaN</td>\n",
       "      <td>NaN</td>\n",
       "      <td>NaN</td>\n",
       "      <td>NaN</td>\n",
       "      <td>False</td>\n",
       "    </tr>\n",
       "  </tbody>\n",
       "</table>\n",
       "<p>16709 rows × 11 columns</p>\n",
       "</div>"
      ],
      "text/plain": [
       "                               Unnamed: 0 Platform  Year_of_Release  \\\n",
       "Name                                                                  \n",
       "Wii Sports                              0      Wii           2006.0   \n",
       "Super Mario Bros.                       1      NES           1985.0   \n",
       "Mario Kart Wii                          2      Wii           2008.0   \n",
       "Wii Sports Resort                       3      Wii           2009.0   \n",
       "Pokemon Red/Pokemon Blue                4       GB           1996.0   \n",
       "...                                   ...      ...              ...   \n",
       "Samurai Warriors: Sanada Maru       16706      PS3           2016.0   \n",
       "LMA Manager 2007                    16707     X360           2006.0   \n",
       "Haitaka no Psychedelica             16708      PSV           2016.0   \n",
       "Spirits & Spells                    16709      GBA           2003.0   \n",
       "Winning Post 8 2016                 16710      PSV           2016.0   \n",
       "\n",
       "                                      Genre  Global_Sales  Critic_Score  \\\n",
       "Name                                                                      \n",
       "Wii Sports                           Sports         82.53          76.0   \n",
       "Super Mario Bros.                  Platform         40.24           NaN   \n",
       "Mario Kart Wii                       Racing         35.52          82.0   \n",
       "Wii Sports Resort                    Sports         32.77          80.0   \n",
       "Pokemon Red/Pokemon Blue       Role-Playing         31.37           NaN   \n",
       "...                                     ...           ...           ...   \n",
       "Samurai Warriors: Sanada Maru        Action          0.01           NaN   \n",
       "LMA Manager 2007                     Sports          0.01           NaN   \n",
       "Haitaka no Psychedelica           Adventure          0.01           NaN   \n",
       "Spirits & Spells                   Platform          0.01           NaN   \n",
       "Winning Post 8 2016              Simulation          0.01           NaN   \n",
       "\n",
       "                               Critic_Count  User_Score  User_Count Rating  \\\n",
       "Name                                                                         \n",
       "Wii Sports                             51.0         8.0       322.0      E   \n",
       "Super Mario Bros.                       NaN         NaN         NaN    NaN   \n",
       "Mario Kart Wii                         73.0         8.3       709.0      E   \n",
       "Wii Sports Resort                      73.0         8.0       192.0      E   \n",
       "Pokemon Red/Pokemon Blue                NaN         NaN         NaN    NaN   \n",
       "...                                     ...         ...         ...    ...   \n",
       "Samurai Warriors: Sanada Maru           NaN         NaN         NaN    NaN   \n",
       "LMA Manager 2007                        NaN         NaN         NaN    NaN   \n",
       "Haitaka no Psychedelica                 NaN         NaN         NaN    NaN   \n",
       "Spirits & Spells                        NaN         NaN         NaN    NaN   \n",
       "Winning Post 8 2016                     NaN         NaN         NaN    NaN   \n",
       "\n",
       "                               blockbuster  \n",
       "Name                                        \n",
       "Wii Sports                           False  \n",
       "Super Mario Bros.                     True  \n",
       "Mario Kart Wii                        True  \n",
       "Wii Sports Resort                    False  \n",
       "Pokemon Red/Pokemon Blue              True  \n",
       "...                                    ...  \n",
       "Samurai Warriors: Sanada Maru        False  \n",
       "LMA Manager 2007                     False  \n",
       "Haitaka no Psychedelica              False  \n",
       "Spirits & Spells                     False  \n",
       "Winning Post 8 2016                  False  \n",
       "\n",
       "[16709 rows x 11 columns]"
      ]
     },
     "execution_count": 35,
     "metadata": {},
     "output_type": "execute_result"
    }
   ],
   "source": [
    "game_sales_data"
   ]
  },
  {
   "cell_type": "markdown",
   "metadata": {},
   "source": [
    "Split the `game_sales_data` again into feature and target variables, create the same train-test split, perform the same preprocessing using the pipeline and create the same models. Is the model performing better now?"
   ]
  },
  {
   "cell_type": "code",
   "execution_count": 36,
   "metadata": {
    "editable": true,
    "slideshow": {
     "slide_type": "slide"
    },
    "tags": []
   },
   "outputs": [],
   "source": [
    "Y = game_sales_data[\"Global_Sales\"]\n",
    "X = game_sales_data.drop(\"Global_Sales\", axis=1)"
   ]
  },
  {
   "cell_type": "code",
   "execution_count": 47,
   "metadata": {
    "editable": true,
    "slideshow": {
     "slide_type": "slide"
    },
    "tags": []
   },
   "outputs": [],
   "source": [
    "train_X, val_X, train_y, val_y = train_test_split(X, y, \n",
    "                                                  train_size=0.8, \n",
    "                                                  random_state = 0)"
   ]
  },
  {
   "cell_type": "code",
   "execution_count": 49,
   "metadata": {},
   "outputs": [],
   "source": [
    "# Preprocessing numerical columns\n",
    "numerical_transformer = SimpleImputer(strategy='mean')\n",
    "\n",
    "## Preprocessing categorical columns\n",
    "\n",
    "# Ordinal Encoder\n",
    "categorical_transformer_ordinal = Pipeline(steps=[\n",
    "    ('imputer', SimpleImputer(strategy='most_frequent')),\n",
    "    ('ordinal', OrdinalEncoder(categories=[['EC','E','K-A','E10+','T', 'M', 'AO', 'RP']])) \n",
    "])\n",
    "\n",
    "# One hot encoder\n",
    "categorical_transformer_ohe = Pipeline(steps=[\n",
    "    ('imputer', SimpleImputer(strategy='most_frequent')),\n",
    "    ('onehot', OneHotEncoder(handle_unknown='ignore')) \n",
    "])\n",
    "\n",
    "# Bundle the preprocessors\n",
    "preprocessor = ColumnTransformer(transformers=[\n",
    "    ('num', numerical_transformer, num_cols),\n",
    "    ('cat_ordinal', categorical_transformer_ordinal, ['Rating']),\n",
    "    ('cat_ohe', categorical_transformer_ohe, [\"Platform\", \"Genre\", \"blockbuster\"])\n",
    "])"
   ]
  },
  {
   "cell_type": "code",
   "execution_count": 50,
   "metadata": {},
   "outputs": [
    {
     "name": "stdout",
     "output_type": "stream",
     "text": [
      "MAE using the complete pipeline: 0.42701099280772986\n"
     ]
    }
   ],
   "source": [
    "# Create model\n",
    "model = RandomForestRegressor(n_estimators=100, random_state=1,max_depth=10)\n",
    "\n",
    "\n",
    "# Bundle preprocessing and modeling code in a pipeline\n",
    "complete_pipeline2 = Pipeline(steps=[\n",
    "    ('preprocessor', preprocessor),\n",
    "    ('model', model)\n",
    "])\n",
    "\n",
    "# Preprocess the raw training data and fit the model\n",
    "complete_pipeline2.fit(train_X, train_y)\n",
    "\n",
    "# Preprocess the raw validation data and make predictions\n",
    "preds = complete_pipeline2.predict(val_X)\n",
    "\n",
    "# Evaluate the model\n",
    "score = mean_absolute_error(val_y, preds)\n",
    "print(\"MAE using the complete pipeline: {}\".format(score))"
   ]
  }
 ],
 "metadata": {
  "kernelspec": {
   "display_name": "env",
   "language": "python",
   "name": "python3"
  },
  "language_info": {
   "codemirror_mode": {
    "name": "ipython",
    "version": 3
   },
   "file_extension": ".py",
   "mimetype": "text/x-python",
   "name": "python",
   "nbconvert_exporter": "python",
   "pygments_lexer": "ipython3",
   "version": "3.11.0"
  }
 },
 "nbformat": 4,
 "nbformat_minor": 4
}
